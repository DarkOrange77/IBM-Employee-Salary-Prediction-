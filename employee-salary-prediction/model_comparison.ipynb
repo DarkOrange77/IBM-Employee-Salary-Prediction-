{
    "cells": [
        {
            "cell_type": "code",
            "metadata": {
                "language": "python"
            },
            "source": [
                "# Import necessary libraries",
                "import pandas as pd",
                "import numpy as np",
                "import matplotlib.pyplot as plt",
                "from sklearn.model_selection import train_test_split",
                "from sklearn.preprocessing import LabelEncoder, MinMaxScaler",
                "from sklearn.neighbors import KNeighborsClassifier",
                "from sklearn.linear_model import LogisticRegression",
                "from sklearn.ensemble import RandomForestClassifier, GradientBoostingClassifier",
                "from sklearn.svm import SVC",
                "from sklearn.neural_network import MLPClassifier",
                "from sklearn.metrics import accuracy_score, classification_report, confusion_matrix"
            ]
        },
        {
            "cell_type": "code",
            "metadata": {
                "language": "python"
            },
            "source": [
                "# Load the dataset",
                "data = pd.read_csv('adult 3.csv')"
            ]
        },
        {
            "cell_type": "code",
            "metadata": {
                "language": "python"
            },
            "source": [
                "# Data preprocessing",
                "data.replace('?', np.nan, inplace=True)",
                "data.dropna(inplace=True)",
                "data['income'] = LabelEncoder().fit_transform(data['income'])",
                "X = data.drop(columns=['income'])",
                "y = data['income']",
                "X = pd.get_dummies(X, drop_first=True)",
                "scaler = MinMaxScaler()",
                "X = scaler.fit_transform(X)"
            ]
        },
        {
            "cell_type": "code",
            "metadata": {
                "language": "python"
            },
            "source": [
                "# Split the data into training and testing sets",
                "X_train, X_test, y_train, y_test = train_test_split(X, y, test_size=0.2, random_state=42, stratify=y)"
            ]
        },
        {
            "cell_type": "code",
            "metadata": {
                "language": "python"
            },
            "source": [
                "# Initialize models",
                "models = {",
                "    'KNN': KNeighborsClassifier(n_neighbors=5),",
                "    'Logistic Regression': LogisticRegression(max_iter=1000),",
                "    'Random Forest': RandomForestClassifier(),",
                "    'SVM': SVC(),",
                "    'Gradient Boosting': GradientBoostingClassifier(),",
                "    'Neural Network': MLPClassifier(max_iter=2000)",
                "}"
            ]
        },
        {
            "cell_type": "code",
            "metadata": {
                "language": "python"
            },
            "source": [
                "# Train and evaluate each model",
                "results = {}",
                "for name, model in models.items():",
                "    model.fit(X_train, y_train)",
                "    y_pred = model.predict(X_test)",
                "    acc = accuracy_score(y_test, y_pred)",
                "    results[name] = acc",
                "    print(f'{name} Accuracy: {acc:.4f}')",
                "    print(classification_report(y_test, y_pred))",
                "    print(confusion_matrix(y_test, y_pred))"
            ]
        },
        {
            "cell_type": "code",
            "metadata": {
                "language": "python"
            },
            "source": [
                "# Plotting model comparison",
                "plt.figure(figsize=(10, 6))",
                "plt.barh(list(results.keys()), list(results.values()), color='skyblue')",
                "plt.xlabel('Accuracy')",
                "plt.title('Model Accuracy Comparison')",
                "plt.grid(axis='x', linestyle='--', alpha=0.6)",
                "plt.show()"
            ]
        }
    ],
    "metadata": {
        "kernelspec": {
            "display_name": "Python 3",
            "language": "python",
            "name": "python3"
        },
        "language_info": {
            "codemirror_mode": {
                "name": "ipython",
                "version": 3
            },
            "file_extension": ".py",
            "mimetype": "text/x-python",
            "name": "python",
            "nbconvert_exporter": "python",
            "pygments_lexer": "ipython3",
            "version": "3.8.5"
        }
    },
    "nbformat": 4,
    "nbformat_minor": 4
}